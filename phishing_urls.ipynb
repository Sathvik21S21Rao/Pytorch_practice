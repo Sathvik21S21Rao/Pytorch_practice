{
  "cells": [
    {
      "cell_type": "code",
      "execution_count": 1,
      "metadata": {
        "id": "douiXOBXSKuJ"
      },
      "outputs": [],
      "source": [
        "import torch"
      ]
    },
    {
      "cell_type": "code",
      "execution_count": 2,
      "metadata": {
        "id": "6m87bPGISgNb"
      },
      "outputs": [],
      "source": [
        "device=torch.device(\"cuda\" if torch.cuda.is_available() else \"cpu\")"
      ]
    },
    {
      "cell_type": "code",
      "execution_count": 3,
      "metadata": {
        "colab": {
          "base_uri": "https://localhost:8080/"
        },
        "id": "PBdD9QF1TRaV",
        "outputId": "e6991166-aa82-465e-bc77-8a73669cdcc3"
      },
      "outputs": [
        {
          "data": {
            "text/plain": [
              "device(type='cuda')"
            ]
          },
          "execution_count": 3,
          "metadata": {},
          "output_type": "execute_result"
        }
      ],
      "source": [
        "device"
      ]
    },
    {
      "cell_type": "code",
      "execution_count": 4,
      "metadata": {
        "id": "yXChsGFkVxuM"
      },
      "outputs": [],
      "source": [
        "import pandas as pd\n",
        "import seaborn as sns"
      ]
    },
    {
      "cell_type": "code",
      "execution_count": 5,
      "metadata": {
        "id": "Hv9_flVTYSvB"
      },
      "outputs": [],
      "source": [
        "df=pd.read_csv(\"malicious_phish.csv\")"
      ]
    },
    {
      "cell_type": "code",
      "execution_count": 6,
      "metadata": {
        "colab": {
          "base_uri": "https://localhost:8080/",
          "height": 468
        },
        "id": "kzcm5oyBYmzN",
        "outputId": "4ea0a147-c492-4b72-ab2d-c7cfc053af75"
      },
      "outputs": [
        {
          "data": {
            "text/plain": [
              "<Axes: xlabel='type', ylabel='count'>"
            ]
          },
          "execution_count": 6,
          "metadata": {},
          "output_type": "execute_result"
        },
        {
          "data": {
            "image/png": "[encoded data removed]",
            "text/plain": [
              "<Figure size 640x480 with 1 Axes>"
            ]
          },
          "metadata": {},
          "output_type": "display_data"
        }
      ],
      "source": [
        "sns.countplot(data=df,x=\"type\")"
      ]
    },
    {
      "cell_type": "code",
      "execution_count": 7,
      "metadata": {
        "id": "POhwer-8ZhOQ"
      },
      "outputs": [],
      "source": [
        "def output(x):\n",
        "  if x==\"benign\":\n",
        "    return 0\n",
        "  elif x==\"phishing\":\n",
        "    return 1\n",
        "  elif x==\"defacement\":\n",
        "    return 2\n",
        "  elif x==\"malware\":\n",
        "    return 3\n",
        "df[\"output\"]=df[\"type\"].apply(output)"
      ]
    },
    {
      "cell_type": "code",
      "execution_count": 8,
      "metadata": {
        "id": "iJgvTVw1VJp0"
      },
      "outputs": [],
      "source": [
        "df=df.drop(\"type\",axis=1)"
      ]
    },
    {
      "cell_type": "markdown",
      "metadata": {
        "id": "dUe5BaIAVlBp"
      },
      "source": [
        "# Splitting data into training set and testing set.\n",
        "# Further splitting them into batches"
      ]
    },
    {
      "cell_type": "code",
      "execution_count": 36,
      "metadata": {
        "id": "XqgaLcpBSpKy"
      },
      "outputs": [],
      "source": [
        "import numpy as np\n",
        "\n",
        "shuffled_df = df.sample(frac=1, random_state=42)\n",
        "train_ratio=0.8\n",
        "split_idx = int(len(shuffled_df) * train_ratio)\n",
        "train_data = shuffled_df[:split_idx]\n",
        "test_data = shuffled_df[split_idx:]\n",
        "\n",
        "batch_size=1000\n",
        "num_batches = len(train_data) // batch_size\n",
        "train_batches = np.array_split(train_data, num_batches)\n",
        "\n"
      ]
    },
    {
      "cell_type": "markdown",
      "metadata": {
        "id": "vh24lASLV80_"
      },
      "source": [
        "# Vectorizing a sample of the training data"
      ]
    },
    {
      "cell_type": "code",
      "execution_count": 10,
      "metadata": {
        "id": "2JqapYWBaBUG"
      },
      "outputs": [],
      "source": [
        "from sklearn.feature_extraction.text import TfidfVectorizer\n",
        "vectorizer=TfidfVectorizer()\n",
        "sample=train_data[\"url\"].sample(random_state=101,n=20000)\n",
        "vectorizer.fit(sample)\n",
        "input_shape=vectorizer.transform([\"http://gmail.com\"]).shape[1]"
      ]
    },
    {
      "cell_type": "code",
      "execution_count": null,
      "metadata": {
        "id": "XH9A6yJtfJMc"
      },
      "outputs": [],
      "source": [
        "from torch import nn\n",
        "class ClassificationModel0(nn.Module):\n",
        "  def __init__(self,input_shape:int,output_shape:int,hidden_units:int):\n",
        "    super().__init__()\n",
        "    self.layers=nn.Sequential(nn.Linear(in_features=input_shape,out_features=hidden_units),\n",
        "                  nn.ReLU(),\n",
        "                  nn.Linear(in_features=hidden_units,out_features=hidden_units),\n",
        "                  nn.ReLU(),\n",
        "                  nn.Linear(in_features=hidden_units,out_features=output_shape))\n",
        "  def forward(self,x):\n",
        "    return self.layers(x)\n",
        "model0=ClassificationModel0(input_shape=input_shape,output_shape=4,hidden_units=10).to(device)"
      ]
    },
    {
      "cell_type": "code",
      "execution_count": 12,
      "metadata": {
        "id": "VrpK8XFSlf01"
      },
      "outputs": [],
      "source": [
        "loss_fn=nn.CrossEntropyLoss()\n",
        "optimizer=torch.optim.Adam(params=model0.parameters(),lr=0.001)"
      ]
    },
    {
      "cell_type": "code",
      "execution_count": 13,
      "metadata": {
        "id": "S_1-rhiJcYw9"
      },
      "outputs": [],
      "source": [
        "for epoch in range(3):\n",
        "  for batch in train_batches:\n",
        "    data=torch.from_numpy(vectorizer.transform(batch[\"url\"]).toarray()).to(torch.float32).to(device)\n",
        "\n",
        "    target=torch.from_numpy(batch[\"output\"].to_numpy()).to(torch.int64).to(device)\n",
        "    model0.train()\n",
        "    y_pred=model0(data).to(torch.float32).to(device)\n",
        "    loss=loss_fn(y_pred,target)\n",
        "    optimizer.zero_grad()\n",
        "    loss.backward()\n",
        "    optimizer.step()\n"
      ]
    },
    {
      "cell_type": "code",
      "execution_count": 14,
      "metadata": {
        "id": "_fbRMgSbIDuy"
      },
      "outputs": [],
      "source": [
        "batch1=train_batches[1]"
      ]
    },
    {
      "cell_type": "code",
      "execution_count": 23,
      "metadata": {
        "id": "jWJ_7MI65xlZ"
      },
      "outputs": [],
      "source": [
        "data=torch.from_numpy(vectorizer.transform(batch1[\"url\"]).toarray()).to(torch.float32).to(device)\n",
        "target=torch.from_numpy(batch1[\"output\"].to_numpy())"
      ]
    },
    {
      "cell_type": "code",
      "execution_count": 16,
      "metadata": {
        "id": "k9Ps6rrv6HYC"
      },
      "outputs": [],
      "source": [
        "from sklearn.metrics import accuracy_score,confusion_matrix,ConfusionMatrixDisplay"
      ]
    },
    {
      "cell_type": "code",
      "execution_count": 26,
      "metadata": {
        "id": "bT1mDvHO5_SM"
      },
      "outputs": [],
      "source": [
        "y_pred=model0(data).argmax(dim=1).to(\"cpu\")"
      ]
    },
    {
      "cell_type": "code",
      "execution_count": 29,
      "metadata": {
        "colab": {
          "base_uri": "https://localhost:8080/"
        },
        "id": "jOeIENuG7w00",
        "outputId": "c4206a11-afaa-49ba-811c-1840dcf21bf8"
      },
      "outputs": [
        {
          "name": "stdout",
          "output_type": "stream",
          "text": [
            "0.9590818363273453\n"
          ]
        }
      ],
      "source": [
        "with torch.inference_mode():\n",
        "  print(accuracy_score(y_true=target,y_pred=y_pred))"
      ]
    },
    {
      "cell_type": "code",
      "execution_count": 28,
      "metadata": {
        "colab": {
          "base_uri": "https://localhost:8080/",
          "height": 487
        },
        "id": "GspcvRil9mRc",
        "outputId": "6e168be1-d3a0-4762-dcd6-fa03f4d2eb68"
      },
      "outputs": [
        {
          "data": {
            "text/plain": [
              "<sklearn.metrics._plot.confusion_matrix.ConfusionMatrixDisplay at 0x793095dbc490>"
            ]
          },
          "execution_count": 28,
          "metadata": {},
          "output_type": "execute_result"
        },
        {
          "data": {
            "image/png": "[encoded data removed]",
            "text/plain": [
              "<Figure size 640x480 with 2 Axes>"
            ]
          },
          "metadata": {},
          "output_type": "display_data"
        }
      ],
      "source": [
        "ConfusionMatrixDisplay(confusion_matrix(y_true=target,y_pred=y_pred)).plot()"
      ]
    },
    {
      "cell_type": "code",
      "execution_count": 37,
      "metadata": {
        "id": "ixzD58x0kg1w"
      },
      "outputs": [],
      "source": [
        "batch_size=1000\n",
        "num_batches_test = len(test_data) // batch_size\n",
        "test_batches = np.array_split(test_data, num_batches_test)\n",
        "accuracy_test=accuracy_train=0"
      ]
    },
    {
      "cell_type": "code",
      "execution_count": 39,
      "metadata": {
        "id": "177cUHEckw8w"
      },
      "outputs": [],
      "source": [
        "with torch.inference_mode():\n",
        "  for batch in test_batches:\n",
        "    data=torch.from_numpy(vectorizer.transform(batch[\"url\"]).toarray()).to(torch.float32).to(device)\n",
        "    target=torch.from_numpy(batch[\"output\"].to_numpy())\n",
        "    y_pred=model0(data).argmax(dim=1).to(\"cpu\")\n",
        "    accuracy_test+=accuracy_score(y_pred=y_pred,y_true=target)\n",
        "\n"
      ]
    },
    {
      "cell_type": "code",
      "execution_count": 38,
      "metadata": {
        "id": "8GAvMcW6l6as"
      },
      "outputs": [],
      "source": [
        "with torch.inference_mode():\n",
        "  for batch in train_batches:\n",
        "    data=torch.from_numpy(vectorizer.transform(batch[\"url\"]).toarray()).to(torch.float32).to(device)\n",
        "    target=torch.from_numpy(batch[\"output\"].to_numpy())\n",
        "    y_pred=model0(data).argmax(dim=1).to(\"cpu\")\n",
        "    accuracy_train+=accuracy_score(y_pred=y_pred,y_true=target)"
      ]
    },
    {
      "cell_type": "code",
      "execution_count": 40,
      "metadata": {
        "colab": {
          "base_uri": "https://localhost:8080/"
        },
        "id": "kB7sTUublkSf",
        "outputId": "23a036ef-3176-4cbb-bfe0-bc7eb681272f"
      },
      "outputs": [
        {
          "name": "stdout",
          "output_type": "stream",
          "text": [
            "Accuracy score on seen data | 0.9536121582240901\n",
            "Accuracy score on unseen data | 0.9475652169111403\n"
          ]
        }
      ],
      "source": [
        "print(f\"Accuracy score on seen data | {accuracy_train/num_batches}\")\n",
        "print(f\"Accuracy score on unseen data | {accuracy_test/num_batches_test}\")"
      ]
    },
    {
      "cell_type": "code",
      "execution_count": null,
      "metadata": {
        "id": "TkWHfzyRlzsE"
      },
      "outputs": [],
      "source": []
    }
  ],
  "metadata": {
    "accelerator": "GPU",
    "colab": {
      "gpuType": "T4",
      "provenance": []
    },
    "kernelspec": {
      "display_name": "Python 3",
      "name": "python3"
    },
    "language_info": {
      "name": "python"
    }
  },
  "nbformat": 4,
  "nbformat_minor": 0
}
